{
  "nbformat": 4,
  "nbformat_minor": 0,
  "metadata": {
    "colab": {
      "name": "Иванова. Практическая работа",
      "provenance": [],
      "collapsed_sections": []
    },
    "kernelspec": {
      "name": "python3",
      "display_name": "Python 3"
    }
  },
  "cells": [
    {
      "cell_type": "code",
      "metadata": {
        "id": "3iYCFOaYMHgi",
        "outputId": "30f74e48-0246-47a1-ae67-1ef44d5a4979",
        "colab": {
          "base_uri": "https://localhost:8080/",
          "height": 51
        }
      },
      "source": [
        "class Human:\n",
        "  def __init__(self, name, age, iq):\n",
        "    self.name = name\n",
        "    self.age = age\n",
        "    if self.age < 0:\n",
        "      print(\"Opps\")\n",
        "    self.iq = iq\n",
        "Human1=Human('Bob',35,89) #создали экземпляр класса\n",
        "print(Human1.name, Human1.age, Human1.iq) #вывли свойства\n",
        "Human2=Human('Tom',-6,78)\n"
      ],
      "execution_count": null,
      "outputs": [
        {
          "output_type": "stream",
          "text": [
            "Bob 35 89\n",
            "Opps\n"
          ],
          "name": "stdout"
        }
      ]
    },
    {
      "cell_type": "code",
      "metadata": {
        "id": "kQgo2aEIRmTN",
        "outputId": "3811423e-c322-421a-ca8c-5ec83f8b192a",
        "colab": {
          "base_uri": "https://localhost:8080/",
          "height": 68
        }
      },
      "source": [
        "class Point:\n",
        "  amount = 0\n",
        "  def __init__(self, *args):\n",
        "    if len(args) == 2:\n",
        "      self.x = args[0]\n",
        "      self.y = args[1]\n",
        "    else:\n",
        "      self.x = self.y = 0\n",
        "    Point.amount += 1\n",
        "  def __del__(self):\n",
        "    Point.amount -= 1\n",
        "  def distanse(self):\n",
        "    return(self.x ** 2 + self.y ** 2) ** 0.5\n",
        "  def __str(self):\n",
        "    return '({}; {})'.format(self.x, self.y)\n",
        "p = Point(36, 42)\n",
        "print(round(p.distanse(),2))\n",
        "from math import sqrt, pi\n",
        "class Circle:\n",
        "    def __init__(self,x,y, radius):\n",
        "        self.center = Point(x,y)\n",
        "        self.radius = radius\n",
        "        if self.radius < 0:\n",
        "            print(\"проверьте переменную радиус\")\n",
        "      \n",
        "    def  lencircle(self):\n",
        "        return 2 * pi * self.radius\n",
        " \n",
        "    def Square(self):\n",
        "        return pi* self.radius**2\n",
        " \n",
        "    def move (self,x,y):\n",
        "        self.center.x = x\n",
        "        self.center.y = y\n",
        " \n",
        "    def distance(self):\n",
        "        return sqrt(self.center.x**2 + self.center.y**2)\n",
        "  \n",
        "    def __str__(self):\n",
        "        return \"Circle: center: {}, radius: {}\" .format(self.center, self.radius)\n",
        " \n",
        "Circle1 = Circle(3,4,5) \n",
        "Circle2 = Circle(1, 1, -9) \n",
        "print(round(Circle1.Square(), 2), round(Circle1.lencircle(), 2), round(Circle1.Square(), 2))\n"
      ],
      "execution_count": 10,
      "outputs": [
        {
          "output_type": "stream",
          "text": [
            "55.32\n",
            "проверьте переменную радиус\n",
            "78.54 31.42 78.54\n"
          ],
          "name": "stdout"
        }
      ]
    },
    {
      "cell_type": "code",
      "metadata": {
        "id": "piTtVlgIV089",
        "outputId": "297efb7c-b5fc-4ed5-9090-4345d936f0f1",
        "colab": {
          "base_uri": "https://localhost:8080/",
          "height": 35
        }
      },
      "source": [
        "from math import sqrt, pi\n",
        "class Circle:\n",
        "  def __init__(self, x, y, radius):\n",
        "    self.centre=Point(x,y)\n",
        "    self.radius=radius\n",
        "  def LenCircle(self):\n",
        "    return 2*pi*radius\n",
        "  def Square(self):\n",
        "    return pi*radious**2\n",
        "  def move(self, x, y):\n",
        "    self.centre.x=x\n",
        "    self.centre.y=y\n",
        "  def distance(self):\n",
        "    return sqrt(self.center.x**2+self.center.y**2)\n",
        "  def __str__(self):\n",
        "    return \"Circle: center: {}, radius: {}\".format(self.center, self.radious)\n",
        "Circle1=Circle(3, 4, 5)\n",
        "print(Circle1.LenCircle)\n",
        "  "
      ],
      "execution_count": null,
      "outputs": [
        {
          "output_type": "stream",
          "text": [
            "<bound method Circle.LenCircle of <__main__.Circle object at 0x7fbbd35caba8>>\n"
          ],
          "name": "stdout"
        }
      ]
    }
  ]
}