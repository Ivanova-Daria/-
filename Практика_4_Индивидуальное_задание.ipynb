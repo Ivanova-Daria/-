{
  "nbformat": 4,
  "nbformat_minor": 0,
  "metadata": {
    "colab": {
      "name": "Практика 4. Индивидуальное задание",
      "provenance": [],
      "authorship_tag": "ABX9TyO5w/XeySk22PuiolM/0fC8",
      "include_colab_link": true
    },
    "kernelspec": {
      "name": "python3",
      "display_name": "Python 3"
    }
  },
  "cells": [
    {
      "cell_type": "markdown",
      "metadata": {
        "id": "view-in-github",
        "colab_type": "text"
      },
      "source": [
        "<a href=\"https://colab.research.google.com/github/Ivanova-Daria/-/blob/main/%D0%9F%D1%80%D0%B0%D0%BA%D1%82%D0%B8%D0%BA%D0%B0_4_%D0%98%D0%BD%D0%B4%D0%B8%D0%B2%D0%B8%D0%B4%D1%83%D0%B0%D0%BB%D1%8C%D0%BD%D0%BE%D0%B5_%D0%B7%D0%B0%D0%B4%D0%B0%D0%BD%D0%B8%D0%B5.ipynb\" target=\"_parent\"><img src=\"https://colab.research.google.com/assets/colab-badge.svg\" alt=\"Open In Colab\"/></a>"
      ]
    },
    {
      "cell_type": "markdown",
      "metadata": {
        "id": "SZg8nUSmR06N"
      },
      "source": [
        "Иванова Дарья, Вариан №5"
      ]
    },
    {
      "cell_type": "code",
      "metadata": {
        "colab": {
          "base_uri": "https://localhost:8080/"
        },
        "id": "2S7S0na1Rt9c",
        "outputId": "944273b3-88bc-49d4-93dd-62c7ee19987e"
      },
      "source": [
        "class Organization:\n",
        "  def __init__(self, a, p):\n",
        "    self.address = a\n",
        "    self.phone = p\n",
        "class Insurance(Organization):\n",
        "  prformonth = 10000\n",
        "  def prise(self, m):\n",
        "    self.monthnumber=m\n",
        "    return Insurance.prformonth*self.monthnumber\n",
        "class Oil(Organization):\n",
        "  def prise(self,b, d):\n",
        "    prforbarrel = 45\n",
        "    self.barrelnumber = b\n",
        "    self.dollarrate = d\n",
        "    return Oil.prforbarrel*self.barrelnumber*self.dollarrate\n",
        "class Plant(Oil):\n",
        "  def changeaddress(self, n):\n",
        "    self.newaddress=n\n",
        "    self.address = n\n",
        "    return self.address\n",
        "o1 = Plant(\"Русснефть\",\"84997771234\")\n",
        "print(\"новое название завода - {}\".format(o1.changeaddress(\"Надежда России\")))\n",
        "i1=Insurance(\"Страхуемвсе\",\"88005553535\")\n",
        "i1.prise(8)\n",
        "print(\"цена за страховку на {} месяцев - {}\".format(i1.monthnumber, i1.prise(8)))"
      ],
      "execution_count": 17,
      "outputs": [
        {
          "output_type": "stream",
          "text": [
            "новое название завода - Надежда России\n",
            "цена за страховку на 8 месяцев - 80000\n"
          ],
          "name": "stdout"
        }
      ]
    }
  ]
}