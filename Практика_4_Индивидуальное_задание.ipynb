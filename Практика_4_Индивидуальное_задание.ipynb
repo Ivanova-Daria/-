{
  "nbformat": 4,
  "nbformat_minor": 0,
  "metadata": {
    "colab": {
      "name": "Практика 4. Индивидуальное задание",
      "provenance": [],
      "authorship_tag": "ABX9TyPzZotd+bhK6NjTKgpR1Oo8",
      "include_colab_link": true
    },
    "kernelspec": {
      "name": "python3",
      "display_name": "Python 3"
    }
  },
  "cells": [
    {
      "cell_type": "markdown",
      "metadata": {
        "id": "view-in-github",
        "colab_type": "text"
      },
      "source": [
        "<a href=\"https://colab.research.google.com/github/Ivanova-Daria/-/blob/main/%D0%9F%D1%80%D0%B0%D0%BA%D1%82%D0%B8%D0%BA%D0%B0_4_%D0%98%D0%BD%D0%B4%D0%B8%D0%B2%D0%B8%D0%B4%D1%83%D0%B0%D0%BB%D1%8C%D0%BD%D0%BE%D0%B5_%D0%B7%D0%B0%D0%B4%D0%B0%D0%BD%D0%B8%D0%B5.ipynb\" target=\"_parent\"><img src=\"https://colab.research.google.com/assets/colab-badge.svg\" alt=\"Open In Colab\"/></a>"
      ]
    },
    {
      "cell_type": "markdown",
      "metadata": {
        "id": "SZg8nUSmR06N"
      },
      "source": [
        "Иванова Дарья, Вариан №5"
      ]
    },
    {
      "cell_type": "code",
      "metadata": {
        "colab": {
          "base_uri": "https://localhost:8080/",
          "height": 35
        },
        "id": "2S7S0na1Rt9c",
        "outputId": "585d829d-5b2d-4116-c11f-a5bd11a2752e"
      },
      "source": [
        "class Organization:\n",
        "  def __init__(self, a, p):\n",
        "    self.address = a\n",
        "    self.phone = p\n",
        "class Insurance(Organization):\n",
        "  prformonth = 10000\n",
        "  def prise(self, m):\n",
        "    self.monthnumber=m\n",
        "    return prformonth * self.monthnumber\n",
        "class Oil(Organization):\n",
        "  def prise(self,b, d):\n",
        "    prforbarrel = 45\n",
        "    self.barrelnumber = b\n",
        "    self.dollarrate = d\n",
        "    return prforbarrel*self.barrelnumber*self.dollarrate\n",
        "class Plant(Oil):\n",
        "  def changeaddress(self, n):\n",
        "    self.newaddress=n\n",
        "    self.address = n\n",
        "    return self.address\n",
        "o = Plant(\"Руснефть\",\"84997771234\")\n",
        "o.changeaddress(\"Надежда России\")"
      ],
      "execution_count": 1,
      "outputs": [
        {
          "output_type": "execute_result",
          "data": {
            "application/vnd.google.colaboratory.intrinsic+json": {
              "type": "string"
            },
            "text/plain": [
              "'Надежда России'"
            ]
          },
          "metadata": {
            "tags": []
          },
          "execution_count": 1
        }
      ]
    }
  ]
}