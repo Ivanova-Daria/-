{
  "nbformat": 4,
  "nbformat_minor": 0,
  "metadata": {
    "colab": {
      "name": "Самостоятельная работа",
      "provenance": [],
      "authorship_tag": "ABX9TyMvz+fobUis0VGmoI9tQoQA",
      "include_colab_link": true
    },
    "kernelspec": {
      "name": "python3",
      "display_name": "Python 3"
    }
  },
  "cells": [
    {
      "cell_type": "markdown",
      "metadata": {
        "id": "view-in-github",
        "colab_type": "text"
      },
      "source": [
        "<a href=\"https://colab.research.google.com/github/Ivanova-Daria/-/blob/main/%D0%A1%D0%B0%D0%BC%D0%BE%D1%81%D1%82%D0%BE%D1%8F%D1%82%D0%B5%D0%BB%D1%8C%D0%BD%D0%B0%D1%8F_%D1%80%D0%B0%D0%B1%D0%BE%D1%82%D0%B0.ipynb\" target=\"_parent\"><img src=\"https://colab.research.google.com/assets/colab-badge.svg\" alt=\"Open In Colab\"/></a>"
      ]
    },
    {
      "cell_type": "markdown",
      "metadata": {
        "id": "bveGfrTvTfup"
      },
      "source": [
        "Иванова Дарья, АДЭУ-201; Самостоятельная работа;\n",
        "Вариант 9.\n"
      ]
    },
    {
      "cell_type": "code",
      "metadata": {
        "id": "zcWzu92Gx2DF",
        "outputId": "6e063fb9-fd19-4b7d-e168-b595c798a01c",
        "colab": {
          "base_uri": "https://localhost:8080/",
          "height": 177
        }
      },
      "source": [
        "class Time:\n",
        "  def __init__(self, hours, minutes, seconds):\n",
        "    self.hours=hours\n",
        "    self.minutes=minutes\n",
        "    self.seconds=seconds\n",
        "  def secsum(self):\n",
        "    return self.seconds + self.minutes*60 + self.hours*3600\n",
        "  def timechange(self):\n",
        "    self.seconds += 5\n",
        "    if self.seconds > 59:\n",
        "      self.minutes += 1\n",
        "      self.seconds -= 60\n",
        "    if self.minutes > 59:\n",
        "      self.hours += 1\n",
        "      self.minutes -= 60\n",
        "    return \"{} часов, {} минут, {} секунд\".format(self.hours, self.minutes, self.seconds)\n",
        "     \n",
        "  def __del__(self):\n",
        "        print(\"Объект удален\")\n",
        "t3 = Time(int(input(\"Часы = \")), int(input(\"Минуты = \")), int(input(\"Секунды = \")))\n",
        "s = 0\n",
        "t1 = Time(0, 59, 56)\n",
        "t2 = Time(3, 4, 7)\n",
        "print(\"Время в секундах = {}, измененное время {}\".format(t1.secsum(), t1.timechange()))\n",
        "print(\"Время в секундах = {}, измененное время {}\".format(t2.secsum(), t2.timechange()))\n",
        "print(\"Время в секундах = {}, измененное время {}\".format(t3.secsum(), t3.timechange()))\n"
      ],
      "execution_count": 17,
      "outputs": [
        {
          "output_type": "stream",
          "text": [
            "Часы = 6\n",
            "Минуты = 7\n",
            "Секунды = 59\n",
            "Объект удален\n",
            "Объект удален\n",
            "Объект удален\n",
            "Время в секундах = 3596, измененное время 1 часов, 0 минут, 1 секунд\n",
            "Время в секундах = 11047, измененное время 3 часов, 4 минут, 12 секунд\n",
            "Время в секундах = 22079, измененное время 6 часов, 8 минут, 4 секунд\n"
          ],
          "name": "stdout"
        }
      ]
    }
  ]
}